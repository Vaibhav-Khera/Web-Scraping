{
 "cells": [
  {
   "cell_type": "markdown",
   "metadata": {},
   "source": [
    "# Scraping from IMDB\n",
    "> https://www.imdb.com/search/title/?release_date=2018&sort=num_votes,desc&page=1&ref_=adv_nxt"
   ]
  },
  {
   "cell_type": "markdown",
   "metadata": {},
   "source": [
    "## 1. Print the data of first 3 movies\n",
    "\n",
    "- Find and print the name and genre of the first 3 titles"
   ]
  },
  {
   "cell_type": "code",
   "execution_count": 1,
   "metadata": {},
   "outputs": [
    {
     "name": "stdout",
     "output_type": "stream",
     "text": [
      "Avengers: Infinity War ; Action, Adventure, Sci-Fi\n",
      "Black Panther ; Action, Adventure, Sci-Fi\n",
      "Deadpool 2 ; Action, Adventure, Comedy\n"
     ]
    }
   ],
   "source": [
    "\n",
    "from bs4 import BeautifulSoup\n",
    "import requests\n",
    "R = requests.get('https://www.imdb.com/search/title/?release_date=2018&sort=num_votes,desc&page=1&ref_=adv_nxt')\n",
    "data = BeautifulSoup(R.text,'html.parser')\n",
    "b  = data.find_all(class_ = \"lister-item-header\")\n",
    "c = data.find_all(class_ = 'genre')\n",
    "title = []\n",
    "genre = []\n",
    "for i in b:\n",
    "    title.append(i.a.string)\n",
    "for i in c:\n",
    "    genre.append(i.string)\n",
    "for i in range(3):\n",
    "    print(title[i] ,\";\",genre[i].strip())"
   ]
  },
  {
   "cell_type": "markdown",
   "metadata": {},
   "source": [
    "## 2. Titles with most votes\n",
    "\n",
    "- Print the names of movies with highest number of votes from year 2010 to 2014\n",
    "\n",
    "Note : Print the titles line wise starting from year 2010"
   ]
  },
  {
   "cell_type": "code",
   "execution_count": 2,
   "metadata": {},
   "outputs": [
    {
     "name": "stdout",
     "output_type": "stream",
     "text": [
      "Inception\n",
      "Game of Thrones\n",
      "The Dark Knight Rises\n",
      "The Wolf of Wall Street\n",
      "Interstellar\n"
     ]
    }
   ],
   "source": [
    "\n",
    "l=['2010','2011','2012','2013','2014']\n",
    "title=[]\n",
    "for i in l:\n",
    "    res=requests.get(\"https://www.imdb.com/search/title?release_date=\"+ str(i) +\"&sort=num_votes,desc&page=1&ref_=adv_nxt\")\n",
    "    data = BeautifulSoup(res.text,'html.parser')\n",
    "    b = data.find(class_ = \"lister-item-content\")\n",
    "    print(b.a.string)"
   ]
  },
  {
   "cell_type": "markdown",
   "metadata": {},
   "source": [
    "## 3. Title with maximum duration\n",
    "\n",
    "- Out of the first 250 titles with highest number of votes in 2018,find which title has the maximum duration."
   ]
  },
  {
   "cell_type": "code",
   "execution_count": 3,
   "metadata": {},
   "outputs": [
    {
     "name": "stdout",
     "output_type": "stream",
     "text": [
      "Sharp Objects 421\n"
     ]
    }
   ],
   "source": [
    "\n",
    "import time\n",
    "from bs4 import BeautifulSoup\n",
    "from random import randint\n",
    "dict = {}\n",
    "for i in range(1,202,50) :\n",
    "    page = requests.get(\"https://www.imdb.com/search/title?release_date=2018-01-01,2018-12-31&sort=num_votes,desc&start=\" + str(i) + \"&ref_=adv_nxt\")\n",
    "    soup = BeautifulSoup(page.content,'html.parser')\n",
    "    tags = soup.find_all(\"div\",class_=\"lister-item\")\n",
    "    for j in tags :\n",
    "        if j.find(\"span\",class_=\"runtime\") :\n",
    "            head = j.find(\"h3\",class_=\"lister-item-header\")\n",
    "            dur = j.find(\"span\",class_=\"runtime\")\n",
    "            t = int(dur.text.strip().split(\" \")[0])\n",
    "            dict[head.a.string] = t\n",
    "    time.sleep(randint(0,3))\n",
    "maxdur = -1\n",
    "maxname = 0\n",
    "for k,v in dict.items() :\n",
    "    if v > maxdur :\n",
    "        maxdur = v\n",
    "        maxname = k\n",
    "print(maxname,maxdur)"
   ]
  },
  {
   "cell_type": "markdown",
   "metadata": {},
   "source": [
    "# Scraping from Wikipedia\n",
    "> https://en.wikipedia.org/wiki/Artificial_intelligence"
   ]
  },
  {
   "cell_type": "markdown",
   "metadata": {},
   "source": [
    "## 1. Applications of AI\n",
    "\n",
    "- Find and print all applications of AI (As present in Contents of the page)\n",
    "\n",
    "Note : Print applications line wise"
   ]
  },
  {
   "cell_type": "code",
   "execution_count": 4,
   "metadata": {},
   "outputs": [
    {
     "name": "stdout",
     "output_type": "stream",
     "text": [
      "Healthcare\n",
      "Automotive\n",
      "Finance and economics\n",
      "Cybersecurity\n",
      "Government\n",
      "Law-related professions\n",
      "Video games\n",
      "Military\n",
      "Hospitality\n",
      "Audit\n",
      "Advertising\n"
     ]
    }
   ],
   "source": [
    "\n",
    "from bs4 import BeautifulSoup\n",
    "import requests\n",
    "\n",
    "\n",
    "R = requests.get(\"https://en.wikipedia.org/wiki/Artificial_intelligence\")\n",
    "data = BeautifulSoup(R.text,'html.parser')\n",
    "b = data.find(class_ = 'toclevel-1 tocsection-35')\n",
    "c = b.find_all('span',class_ = \"toctext\")\n",
    "for i in range(1,12):\n",
    "    print(c[i].string)\n"
   ]
  },
  {
   "cell_type": "markdown",
   "metadata": {},
   "source": [
    "## 2. Image with maximum area\n",
    "\n",
    "- Find and print the src of the \"img\" tag which occupies the maximum area on the page.\n",
    "\n",
    "Note :\n",
    "Ignore images which doesn't have height or width attributes"
   ]
  },
  {
   "cell_type": "code",
   "execution_count": 5,
   "metadata": {},
   "outputs": [
    {
     "name": "stdout",
     "output_type": "stream",
     "text": [
      "//upload.wikimedia.org/wikipedia/commons/6/69/EM_Clustering_of_Old_Faithful_data.gif\n"
     ]
    }
   ],
   "source": [
    "\n",
    "from bs4 import BeautifulSoup\n",
    "import requests\n",
    "\n",
    "\n",
    "R = requests.get(\"https://en.wikipedia.org/wiki/Artificial_intelligence\")\n",
    "data = BeautifulSoup(R.text,'html.parser')\n",
    "Img = data.find_all(\"img\",class_=\"thumbimage\")\n",
    "#print(len(Img))\n",
    "max = 0\n",
    "for i in Img:\n",
    "    \n",
    "    area =int(i['width'])  * int(i['height'])\n",
    "    #print(i['width'] , i['height'],area)\n",
    "    if(max<area):\n",
    "        max=area\n",
    "for i in Img:\n",
    "    area =int(i['width'])  * int(i['height'])\n",
    "    if(area==max):\n",
    "        print(i['src'])\n",
    "    "
   ]
  },
  {
   "cell_type": "markdown",
   "metadata": {},
   "source": [
    "# Scraping from Quotestoscrape\n",
    "> http://quotes.toscrape.com/"
   ]
  },
  {
   "cell_type": "markdown",
   "metadata": {},
   "source": [
    "## 1. Quotes with tag humor\n",
    "\n",
    "- Find all the quotes that have the tag as \"humor\""
   ]
  },
  {
   "cell_type": "code",
   "execution_count": 6,
   "metadata": {},
   "outputs": [
    {
     "name": "stdout",
     "output_type": "stream",
     "text": [
      "“The person, be it gentleman or lady, who has not pleasure in a good novel, must be intolerably stupid.”\n",
      "“A day without sunshine is like, you know, night.”\n",
      "“Anyone who thinks sitting in church can make you a Christian must also think that sitting in a garage can make you a car.”\n",
      "“Beauty is in the eye of the beholder and it may be necessary from time to time to give a stupid or misinformed beholder a black eye.”\n",
      "“All you need is love. But a little chocolate now and then doesn't hurt.”\n",
      "“Remember, we're madly in love, so it's all right to kiss me anytime you feel like it.”\n",
      "“Some people never go crazy. What truly horrible lives they must lead.”\n",
      "“The trouble with having an open mind, of course, is that people will insist on coming along and trying to put things in it.”\n",
      "“Think left and think right and think low and think high. Oh, the thinks you can think up if only you try!”\n",
      "“The reason I talk to myself is because I’m the only one whose answers I accept.”\n",
      "“I am free of all prejudice. I hate everyone equally. ”\n",
      "“A lady's imagination is very rapid; it jumps from admiration to love, from love to matrimony in a moment.”\n"
     ]
    }
   ],
   "source": [
    "\n",
    "R = requests.get(\"http://quotes.toscrape.com\")\n",
    "base_url ='http://quotes.toscrape.com'\n",
    "data = BeautifulSoup(R.text,'html.parser')\n",
    "b = data.find_all(\"span\",class_ ='tag-item')\n",
    "\n",
    "a= base_url+b[3].a['href']\n",
    "\n",
    "#print(a)\n",
    "\n",
    "R1 = requests.get(a)\n",
    "data1 = BeautifulSoup(R1.text,'html.parser')\n",
    "quotes = data1.find_all('span',class_=\"text\")\n",
    "for i in quotes:\n",
    "    print(i.string)\n",
    "d = data1.find('li',class_='next')\n",
    "c = base_url+d.a['href']\n",
    "R2 = requests.get(c)\n",
    "data2 = BeautifulSoup(R2.text,'html.parser')\n",
    "quotes2 = data2.find_all('span',class_=\"text\")\n",
    "for i in quotes2:\n",
    "    print(i.string)\n",
    "#c = b[3].find('li',class_='next')\n",
    "#print(c)"
   ]
  },
  {
   "cell_type": "markdown",
   "metadata": {},
   "source": [
    "## 2. Print all authors\n",
    "\n",
    "- Find and print the names of all the different authors from all pages\n",
    "\n",
    "Note : Print the names of all authors line wise sorted in dictionary order"
   ]
  },
  {
   "cell_type": "code",
   "execution_count": 7,
   "metadata": {},
   "outputs": [
    {
     "name": "stdout",
     "output_type": "stream",
     "text": [
      "Albert Einstein\n",
      "Alexandre Dumas fils\n",
      "Alfred Tennyson\n",
      "Allen Saunders\n",
      "André Gide\n",
      "Ayn Rand\n",
      "Bob Marley\n",
      "C.S. Lewis\n",
      "Charles Bukowski\n",
      "Charles M. Schulz\n",
      "Douglas Adams\n",
      "Dr. Seuss\n",
      "E.E. Cummings\n",
      "Eleanor Roosevelt\n",
      "Elie Wiesel\n",
      "Ernest Hemingway\n",
      "Friedrich Nietzsche\n",
      "Garrison Keillor\n",
      "George Bernard Shaw\n",
      "George Carlin\n",
      "George Eliot\n",
      "George R.R. Martin\n",
      "Harper Lee\n",
      "Haruki Murakami\n",
      "Helen Keller\n",
      "J.D. Salinger\n",
      "J.K. Rowling\n",
      "J.M. Barrie\n",
      "J.R.R. Tolkien\n",
      "James Baldwin\n",
      "Jane Austen\n",
      "Jim Henson\n",
      "Jimi Hendrix\n",
      "John Lennon\n",
      "Jorge Luis Borges\n",
      "Khaled Hosseini\n",
      "Madeleine L'Engle\n",
      "Marilyn Monroe\n",
      "Mark Twain\n",
      "Martin Luther King Jr.\n",
      "Mother Teresa\n",
      "Pablo Neruda\n",
      "Ralph Waldo Emerson\n",
      "Stephenie Meyer\n",
      "Steve Martin\n",
      "Suzanne Collins\n",
      "Terry Pratchett\n",
      "Thomas A. Edison\n",
      "W.C. Fields\n",
      "William Nicholson\n"
     ]
    }
   ],
   "source": [
    "\n",
    "from bs4 import BeautifulSoup\n",
    "import requests\n",
    "import numpy as np\n",
    "all_url = ['http://quotes.toscrape.com/page/1/']\n",
    "current_page = 'http://quotes.toscrape.com/page/1/'\n",
    "base_url = 'http://quotes.toscrape.com/'\n",
    "\n",
    "R = requests.get(current_page)\n",
    "while R.status_code==200:\n",
    "    data = BeautifulSoup(R.text,'html.parser')\n",
    "    b = data.find('li',class_='next')\n",
    "    if b is None:\n",
    "        break\n",
    "    next_page = base_url+b.a['href']\n",
    "    all_url.append(next_page)\n",
    "    current_page = next_page\n",
    "    R = requests.get(current_page)\n",
    "#print(all_url)\n",
    "b2=[]\n",
    "for i in all_url:\n",
    "    R1=requests.get(i)\n",
    "    Data1 = BeautifulSoup(R1.text,'html.parser')\n",
    "    b2.append(Data1.find_all('small',class_='author'))\n",
    "#print(b2)\n",
    "names = []\n",
    "\n",
    "for i in b2:\n",
    "    for j in i:\n",
    "        names.append(j.string)\n",
    "names = sorted(names)\n",
    "a = np.unique(names)\n",
    "for i in a:\n",
    "    print(i)\n",
    "#for i in names:\n",
    "  #  print(i)"
   ]
  },
  {
   "cell_type": "markdown",
   "metadata": {},
   "source": [
    "## 3. Birth Date of authors\n",
    "\n",
    "- Find the birth date of authors whose name start with 'J' from this website\n",
    "\n",
    "Note : Print a dictionary containing the name as key and the birth date as value.The Names of authors should be alphabetically sorted."
   ]
  },
  {
   "cell_type": "code",
   "execution_count": 8,
   "metadata": {},
   "outputs": [
    {
     "name": "stdout",
     "output_type": "stream",
     "text": [
      "{'J.D. Salinger': 'January 01, 1919', 'J.K. Rowling': 'July 31, 1965', 'J.M. Barrie': 'May 09, 1860', 'J.R.R. Tolkien': 'January 03, 1892', 'James Baldwin': 'August 02, 1924', 'Jane Austen': 'December 16, 1775', 'Jim Henson': 'September 24, 1936', 'Jimi Hendrix': 'November 27, 1942', 'John Lennon': 'October 09, 1940', 'Jorge Luis Borges': 'August 24, 1899'}\n"
     ]
    }
   ],
   "source": [
    "\n",
    "import numpy as np\n",
    "all_url = ['http://quotes.toscrape.com/page/1/']\n",
    "current_page = 'http://quotes.toscrape.com/page/1/'\n",
    "base_url = 'http://quotes.toscrape.com'\n",
    "\n",
    "R = requests.get(current_page)\n",
    "while R.status_code==200:\n",
    "    data = BeautifulSoup(R.text,'html.parser')\n",
    "    \n",
    "    b = data.find('li',class_='next')\n",
    "    if b is None:\n",
    "        break\n",
    "    next_page = base_url+b.a['href']\n",
    "    all_url.append(next_page)\n",
    "    current_page = next_page\n",
    "    R = requests.get(current_page)\n",
    "quote = []\n",
    "for i in all_url:\n",
    "    R1=requests.get(i)\n",
    "    Data1 = BeautifulSoup(R1.text,'html.parser')\n",
    "    quote.append(Data1.find_all('div',class_='quote'))\n",
    "#print(quote)\n",
    "d_list=[]\n",
    "for i in quote:\n",
    "    for j in i:\n",
    "        if( j.small.string.startswith(\"J\")):\n",
    "            details =base_url+j.a['href']\n",
    "            if details not in d_list:\n",
    "                d_list.append(details)\n",
    "           # \n",
    "            #d = list(Data2.find_all('div',class_='author-details'))\n",
    "#print(d_list)\n",
    "names=[]\n",
    "dob = []\n",
    "for i in d_list:\n",
    "    R2=requests.get(i)\n",
    "    Data2 = BeautifulSoup(R2.text,'html.parser')\n",
    "    names.append(Data2.find('h3').string)\n",
    "    dob.append(Data2.span.string)\n",
    "dict = {}\n",
    "for i in range(10):\n",
    "    dict[names[i]] = dob[i]\n",
    "names_ =[]\n",
    "dob_=[]\n",
    "dict_={}\n",
    "#print(dict)   \n",
    "for i in sorted(dict):\n",
    "    names_.append(i)\n",
    "    dob_.append(dict[i])\n",
    "for i in range(10):\n",
    "    dict_[names_[i]] = dob_[i]\n",
    "print(dict_)\n",
    "\n",
    "    \n",
    "    \n",
    "    "
   ]
  },
  {
   "cell_type": "markdown",
   "metadata": {},
   "source": [
    "## 4. Quotes by Albert Einstein\n",
    "\n",
    "- Find all the quotes by Albert Einstein(in the order they appear on the page) from this website\n",
    "\n",
    "Note : Fetch data from all the pages."
   ]
  },
  {
   "cell_type": "code",
   "execution_count": 9,
   "metadata": {},
   "outputs": [
    {
     "name": "stdout",
     "output_type": "stream",
     "text": [
      "“The world as we have created it is a process of our thinking. It cannot be changed without changing our thinking.”\n",
      "“There are only two ways to live your life. One is as though nothing is a miracle. The other is as though everything is a miracle.”\n",
      "“Try not to become a man of success. Rather become a man of value.”\n",
      "“If you can't explain it to a six year old, you don't understand it yourself.”\n",
      "“If you want your children to be intelligent, read them fairy tales. If you want them to be more intelligent, read them more fairy tales.”\n",
      "“Logic will get you from A to Z; imagination will get you everywhere.”\n",
      "“Any fool can know. The point is to understand.”\n",
      "“Life is like riding a bicycle. To keep your balance, you must keep moving.”\n",
      "“If I were not a physicist, I would probably be a musician. I often think in music. I live my daydreams in music. I see my life in terms of music.”\n",
      "“Anyone who has never made a mistake has never tried anything new.”\n"
     ]
    }
   ],
   "source": [
    "\n",
    "all_url = ['http://quotes.toscrape.com/page/1/']\n",
    "current_page = 'http://quotes.toscrape.com/page/1/'\n",
    "base_url = 'http://quotes.toscrape.com/'\n",
    "\n",
    "R = requests.get(current_page)\n",
    "while R.status_code==200:\n",
    "    data = BeautifulSoup(R.text,'html.parser')\n",
    "    b = data.find('li',class_='next')\n",
    "    if b is None:\n",
    "        break\n",
    "    next_page = base_url+b.a['href']\n",
    "    all_url.append(next_page)\n",
    "    current_page = next_page\n",
    "    R = requests.get(current_page)\n",
    "quote = []\n",
    "for i in all_url:\n",
    "    R1=requests.get(i)\n",
    "    Data1 = BeautifulSoup(R1.text,'html.parser')\n",
    "    quote.append(Data1.find_all('div',class_='quote'))\n",
    "#print(quote)\n",
    "for i in quote:\n",
    "    for j in i:\n",
    "        if(j.small.string==\"Albert Einstein\"):\n",
    "            print(j.span.string)"
   ]
  }
 ],
 "metadata": {
  "kernelspec": {
   "display_name": "Python 3",
   "language": "python",
   "name": "python3"
  },
  "language_info": {
   "codemirror_mode": {
    "name": "ipython",
    "version": 3
   },
   "file_extension": ".py",
   "mimetype": "text/x-python",
   "name": "python",
   "nbconvert_exporter": "python",
   "pygments_lexer": "ipython3",
   "version": "3.7.3"
  }
 },
 "nbformat": 4,
 "nbformat_minor": 2
}
