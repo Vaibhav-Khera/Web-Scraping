{
 "cells": [
  {
   "cell_type": "code",
   "execution_count": 40,
   "metadata": {},
   "outputs": [],
   "source": [
    "from selenium import webdriver\n",
    "from selenium.webdriver.support.ui import WebDriverWait\n",
    "from selenium.webdriver.support import expected_conditions as ec\n",
    "from selenium.webdriver.common.by import By\n",
    "from selenium.common.exceptions import NoSuchElementException, StaleElementReferenceException\n",
    "import time          \n",
    "import re\n",
    "from bs4 import BeautifulSoup                                              \n",
    "import matplotlib.pyplot as plt \n",
    "import numpy as np\n",
    "import pandas as pd\n",
    "import datetime as dt\n",
    "from nltk import FreqDist"
   ]
  },
  {
   "cell_type": "code",
   "execution_count": 4,
   "metadata": {},
   "outputs": [],
   "source": [
    "driver = webdriver.Chrome()                                              #to create a web session\n",
    "driver.get(\"https://www.instagram.com/\")                                 #getting the instagram site\n",
    "wait = WebDriverWait(driver, 10)                                         #adding explicit wait for the page to load, passing the upper bound as 10 sec                           \n",
    "\n",
    "name = wait.until(ec.presence_of_element_located((By.NAME,'username')))    #locating the username textbox\n",
    "password= wait.until(ec.presence_of_element_located((By.NAME,'password'))) #locating the password textbox\n",
    "name.send_keys(\"va_ibhav5\")\n",
    "password.send_keys(\"1507vk\")\n",
    "submit_btn = driver.find_element_by_tag_name(\"button\")                     #locating the login button\n",
    "submit_btn.submit()\n",
    "time.sleep(2)                                                              # adding some waiting time for instagram to login\n",
    "try:\n",
    "    wait.until(ec.presence_of_element_located((By.XPATH,'//div/button[contains(@class,\"HoLwm\")]'))).click()\n",
    "except NoSuchElementException:\n",
    "    pass\n",
    "    "
   ]
  },
  {
   "cell_type": "markdown",
   "metadata": {},
   "source": [
    "# 1.\n",
    "Now your friend has followed a lot of different food bloggers, he needs to analyse the habits of these bloggers.\n",
    "From the list of instagram handles you obtained when you searched ‘food’ in previous project. \n",
    ">- Open the first 10 handles and find the top 5 which have the highest number of followers\n",
    ">- Now Find the number of posts these handles have done in the previous 3 days.\n",
    ">- Depict this information using a suitable graph."
   ]
  },
  {
   "cell_type": "code",
   "execution_count": 5,
   "metadata": {},
   "outputs": [],
   "source": [
    "def search(x):\n",
    "    searchbox = driver.find_element_by_xpath(\"//input[@placeholder = 'Search']\") #search box\n",
    "    searchbox.send_keys(x)\n",
    "    result = wait.until(ec.presence_of_element_located((By.XPATH,\"//div[@class = 'fuqBx']\")))\n",
    "    return list(result.find_elements_by_xpath(\"./*\"))\n",
    "def clearSearch():\n",
    "    driver.find_element_by_xpath(\"//div[contains(@class, 'coreSpriteSearchClear')]\").click()"
   ]
  },
  {
   "cell_type": "code",
   "execution_count": 8,
   "metadata": {},
   "outputs": [],
   "source": [
    "results = search(\"food\")\n",
    "handles = {} # dictionary with handle as key and link as value\n",
    "n = 10\n",
    "\n",
    "for i in results:\n",
    "    result = i.get_attribute('href')\n",
    "    if 'location' not in result and 'tags' not in result: # so only links to profiles are collected\n",
    "        x = i.find_element_by_xpath('./div/div/div') # name of handle \n",
    "        handles[x.text] = result\n",
    "        if len(handles)==n:\n",
    "            break\n",
    "\n",
    "clearSearch() #clears searchbar\n",
    "followers = {} #dictionary with handle as key and no of followers as value\n",
    "\n",
    "for h in handles: #visit each handle and extract no of followers\n",
    "    driver.get(handles[h])\n",
    "    followers[h] = int(re.sub(\"[^0-9]\",\"\",driver.find_element_by_xpath(\"//a[text() = ' followers']/span\").get_attribute('title'))) #remove , to convert to int\n",
    "    if len(followers)==10:\n",
    "        break"
   ]
  },
  {
   "cell_type": "code",
   "execution_count": 9,
   "metadata": {},
   "outputs": [
    {
     "name": "stdout",
     "output_type": "stream",
     "text": [
      "Top 5 profiles with highest number of followers: \n",
      "\n",
      "1. foodnetwork: 10312876 followers\n",
      "2. buzzfeedfood: 3748710 followers\n",
      "3. dilsefoodie: 430926 followers\n",
      "4. foodtalkindia: 295114 followers\n",
      "5. foodiesince96: 245091 followers\n"
     ]
    }
   ],
   "source": [
    "print(\"Top 5 profiles with highest number of followers: \\n\")\n",
    "top5followers = sorted(followers.items(),key=lambda x:x[1],reverse=True)[:5] #sort handles by followers and pick top 5\n",
    "top5handles = [t[0] for t in top5followers] # list of top 5 handles\n",
    "follower_counts = np.array([t[1] for t in top5followers]) #their followers\n",
    "\n",
    "for i,t in enumerate(top5followers):\n",
    "    print(\"{}. {}: {} followers\".format(i+1,t[0],t[1]))"
   ]
  },
  {
   "cell_type": "code",
   "execution_count": 10,
   "metadata": {},
   "outputs": [],
   "source": [
    "def scroller(n): #scrolls page n times\n",
    "    scrolls = 0\n",
    "    current_height = driver.execute_script('return document.body.scrollHeight;') \n",
    "    while scrolls < n:\n",
    "        driver.execute_script('window.scrollTo(0,arguments[0]);',current_height)\n",
    "        scrolls+=1\n",
    "        time.sleep(3)\n",
    "        new_height = driver.execute_script('return document.body.scrollHeight;')\n",
    "        if new_height==current_height:\n",
    "            break\n",
    "        current_height=new_height"
   ]
  },
  {
   "cell_type": "code",
   "execution_count": 12,
   "metadata": {},
   "outputs": [],
   "source": [
    "post_freq = {} #tuples as values for every profile as key. tuple contains no of posts made\n",
    "# in last 3 days as first item and a list of timestamps of each such post as second item\n",
    "for handle in top5handles: \n",
    "    driver.get(handles[handle])\n",
    "    i=1\n",
    "    count=0\n",
    "    done = False #True when a post older than 3days has been found\n",
    "    visited = []\n",
    "    timestamps = [] \n",
    "    while not done:\n",
    "        scroller(i) #scrolls 1 time\n",
    "        posts = list(driver.find_elements_by_xpath(\"//div[@class = 'v1Nh3 kIKUG  _bz0w']\"))\n",
    "        for p in posts:     \n",
    "            try:\n",
    "                link = p.find_element_by_xpath('./a').get_attribute('href')    \n",
    "            except StaleElementReferenceException:\n",
    "                driver.execute_script('window.scrollBy(0,arguments[0]);',-1000) #scroll up 1000px if element is no longer on page\n",
    "                time.sleep(2)\n",
    "                link = p.find_element_by_xpath('./a').get_attribute('href') #and try finding link again\n",
    "     \n",
    "            if link not in visited:\n",
    "                p.find_element_by_xpath(\".//div[@class = 'eLAPa']\").click()\n",
    "                x = wait.until(ec.presence_of_element_located((By.TAG_NAME,\"time\")))\n",
    "                x = x.text.lower()\n",
    "                driver.find_element_by_xpath(\"//*[@aria-label='Close']\").click() \n",
    "                visited.append(link)\n",
    "\n",
    "                if 'h' in x or 'm' in x or 'd' in x:\n",
    "                    if 'd' in x and int(x[0])>3:\n",
    "                        done = True\n",
    "                    else:\n",
    "                        count+=1\n",
    "                        timestamps.append(x)\n",
    "                else:\n",
    "                    done = True\n",
    "            if done:\n",
    "                break\n",
    "                \n",
    "        post_freq[handle] = (count,timestamps)\n",
    "       \n",
    "                "
   ]
  },
  {
   "cell_type": "code",
   "execution_count": 36,
   "metadata": {},
   "outputs": [
    {
     "data": {
      "image/png": "[encoded data removed]",
      "text/plain": [
       "<Figure size 720x432 with 1 Axes>"
      ]
     },
     "metadata": {
      "needs_background": "light"
     },
     "output_type": "display_data"
    }
   ],
   "source": [
    "x = np.arange(0,5)\n",
    "y1 = follower_counts/100000 \n",
    "y2 = [t[0] for t in post_freq.values()]\n",
    "\n",
    "plt.figure(figsize=(10,6))\n",
    "\n",
    "plt.bar(x - 0.4, y1, width=0.4, align='center',color = \"gold\",edgecolor='k',label='Avg Followers in 100k')\n",
    "plt.bar(top5handles, y2, width=0.4, align='center',color = \"grey\",edgecolor='k',label='Posts in last 3d')\n",
    "plt.xticks(x - 0.2,rotation = 20,horizontalalignment='right')\n",
    "plt.xlabel(\"Profile\",fontsize=12)\n",
    "plt.title('Followers and Post Frequency by Profile',fontsize=14)\n",
    "\n",
    "plt.legend()\n",
    "plt.show()"
   ]
  },
  {
   "cell_type": "markdown",
   "metadata": {},
   "source": [
    "# 2.\n",
    "Your friend also needs a list of hashtags that he should use in his posts.\n",
    "\n",
    ">- Open the 5 handles you obtained in the last question, and scrape the content of the first 10 posts of each handle.\n",
    ">- Prepare a list of all words used in all the scraped posts and calculate the frequency of each word.\n",
    ">- Create a csv file with two columns : the word and its frequency\n",
    ">- Now, find the hashtags that were most popular among these bloggers\n",
    ">- Plot a Pie Chart of the top 5 hashtags obtained and the number of times they were used by these bloggers in the scraped posts."
   ]
  },
  {
   "cell_type": "code",
   "execution_count": 37,
   "metadata": {},
   "outputs": [],
   "source": [
    "n = 10\n",
    "posts = {} # a dictionary with keys corresponding to profiles with value as a list, each item contains a post as a string\n",
    "\n",
    "for handle in top5handles:\n",
    "    hrefs = [] #collecting links for top n posts\n",
    "    posts[handle] = []\n",
    "    driver.get(handles[handle])\n",
    "\n",
    "    p = driver.find_elements_by_xpath(\"//div[@class = 'v1Nh3 kIKUG  _bz0w']\") \n",
    "    for post in p:\n",
    "        link = post.find_element_by_tag_name('a').get_attribute('href')\n",
    "        hrefs.append(link)\n",
    "        if len(hrefs)==n:\n",
    "            break\n",
    "\n",
    "    for post in hrefs:\n",
    "        driver.get(post)\n",
    "        posts[handle].append(driver.find_element_by_xpath(\"//div[@class = 'C4VMK']\").text)    "
   ]
  },
  {
   "cell_type": "code",
   "execution_count": 38,
   "metadata": {},
   "outputs": [],
   "source": [
    "def cleanString(string):\n",
    "    string = re.sub('((www\\.[^\\s]+)|(https?://[^\\s]+))','',string) #remove links\n",
    "    string = re.sub('@[^\\s]+','',string) #remove usernames\n",
    "    string = re.sub('\\\\n',' ',string) #remove newline chars\n",
    "    string = string.encode('ascii', 'ignore').decode('ascii') #remove emojis\n",
    "    string = re.sub('[0-9//]+','',string) # remove numbers and /\n",
    "    string = re.sub('[\\s]+[smhdw][\\s]+',' ', string) # remove remaining timestamp after numbers have been removed\n",
    "    string = re.sub('[\\s]+', ' ', string) #remove additional whitespaces\n",
    "    string = string.strip()\n",
    "    return string"
   ]
  },
  {
   "cell_type": "code",
   "execution_count": 44,
   "metadata": {},
   "outputs": [],
   "source": [
    "# Prepare a list of all words used in all the scraped posts and calculate the frequency of each word.\n",
    "all_words = \"\"\n",
    "for handle in posts:\n",
    "    posts_list = posts[handle]\n",
    "    for post in posts_list:\n",
    "        all_words+=\" \"+post        \n",
    "\n",
    "all_words = cleanString(all_words)\n",
    "words_list = [word for word in re.split(' |, |\\. |\\? |! |:',all_words) if word!=''] #split string into words using punctuators as separators and remove null strings\n",
    "\n",
    "fdist = FreqDist(words_list) # to find distribution or frequency of words\n",
    "#fdist.most_common(50)\n",
    "word_distribution = dict(fdist) #convert FreqDist object into python dict\n",
    "word_distribution = {i:[k,word_distribution[k]] for i,k in enumerate(word_distribution)}\n",
    "df = pd.DataFrame.from_dict(word_distribution,columns=['Word','Frequency'],orient='index') # Create dataframe out of dict\n",
    "\n",
    "df.to_csv('FrequencyDist.csv',index = False) #create required csv files"
   ]
  },
  {
   "cell_type": "code",
   "execution_count": 45,
   "metadata": {},
   "outputs": [
    {
     "name": "stdout",
     "output_type": "stream",
     "text": [
      "    Hashtag       No of times used   \n",
      "----------------------------------\n",
      "#dilsefoodie                10         \n",
      "#foodiesince                9          \n",
      "#WeCook                     3          \n",
      "#WorstCooks                 3          \n"
     ]
    }
   ],
   "source": [
    "hashtags = {} #dictionary containing hashtags and their frequency\n",
    "for word in words_list:\n",
    "    if word[0]=='#':\n",
    "        hashtags[word]=hashtags.get(word,0)+1\n",
    "\n",
    "hashtags = sorted(hashtags.items(),key=lambda x: x[1],reverse = True)\n",
    "print(\"Hashtag\".center(15),\"No of times used\".center(20),\"\\n----------------------------------\")\n",
    "for t in hashtags:\n",
    "    if t[1]==1:\n",
    "        break\n",
    "    print(t[0].ljust(18),str(t[1]).center(20))    "
   ]
  },
  {
   "cell_type": "code",
   "execution_count": 86,
   "metadata": {},
   "outputs": [
    {
     "data": {
      "image/png": "[encoded data removed]",
      "text/plain": [
       "<Figure size 360x360 with 1 Axes>"
      ]
     },
     "metadata": {},
     "output_type": "display_data"
    }
   ],
   "source": [
    "plt.figure(figsize=(5,5))\n",
    "explode = [0 for i in range(5)]\n",
    "colors = ['gold', 'orange', 'white','green','grey']\n",
    "explode[np.array([t[1] for t in hashtags]).argmax()]=0.1\n",
    "plt.title(\"Top 5 hashtags\",fontsize = 12)\n",
    "plt.pie([t[1]for t in hashtags[:5]], labels = [t[0]for t in hashtags[:5]],autopct=\"%.2f%%\", \n",
    "        explode = explode, shadow=True, colors = colors,wedgeprops={\"edgecolor\":\"0\",'linewidth': 2,\n",
    "                    'linestyle': 'solid', 'antialiased': True})\n",
    "plt.show()"
   ]
  },
  {
   "cell_type": "markdown",
   "metadata": {},
   "source": [
    "# 3.\n",
    "You need to also calculate average followers : likes ratio for the obtained handles. \n",
    "Followers : Likes ratio is calculated as follows:\n",
    ">- Find out the likes of the top 10 posts of the 5 handles obtained earlier.\n",
    ">- Calculate the average likes for a handle.\n",
    ">- Divide the average likes obtained from the number of followers of the handle to get the average followers:like ratio of each handle.\n",
    ">- Create a bar graph to depict the above obtained information."
   ]
  },
  {
   "cell_type": "code",
   "execution_count": 68,
   "metadata": {},
   "outputs": [],
   "source": [
    "n = 10\n",
    "likes = {} # a dictionary with keys corresponding to profiles with value as a list, each item contains a post as a string\n",
    "\n",
    "for handle in top5handles:\n",
    "    hrefs = [] #collecting links for top n posts\n",
    "    driver.get(handles[handle])\n",
    "\n",
    "    p = driver.find_elements_by_xpath(\"//div[@class = 'v1Nh3 kIKUG  _bz0w']\")         \n",
    "    for post in p:\n",
    "        link = post.find_element_by_tag_name('a').get_attribute('href')\n",
    "        hrefs.append(link)\n",
    "        if len(hrefs)==n:\n",
    "                break\n",
    "\n",
    "    for post in hrefs:\n",
    "        driver.get(post)\n",
    "        try:\n",
    "            num = driver.find_element_by_xpath(\"//button[text() = ' likes']\").get_attribute('innerHTML')\n",
    "            \n",
    "        except NoSuchElementException: #views taken in case of videos\n",
    "            num = driver.find_element_by_xpath(\"//span[text() = ' views']\").get_attribute('innerHTML') \n",
    "        \n",
    "        num = re.sub('</?span>','',num).split()[0] #extract number\n",
    "        if ',' in num:\n",
    "            num = re.sub(',','', num) #remove , \n",
    "        likes[handle] = likes.get(handle,0) + int(num)"
   ]
  },
  {
   "cell_type": "code",
   "execution_count": 69,
   "metadata": {},
   "outputs": [
    {
     "name": "stdout",
     "output_type": "stream",
     "text": [
      "    Profile        Average Likes     Followers:Likes\n",
      "1. foodnetwork        177885.6          0.0172\n",
      "2. buzzfeedfood       142380.2          0.0380\n",
      "3. dilsefoodie         82636.7          0.1918\n",
      "4. foodtalkindia       18797.4          0.0637\n",
      "5. foodiesince96        8436.0          0.0344\n"
     ]
    }
   ],
   "source": [
    "avg_likes = np.array(list(likes.values()))\n",
    "avg_likes = avg_likes/n\n",
    "# follower_counts = np.array([t[1] for t in top5followers])\n",
    "flratio = (avg_likes/follower_counts)\n",
    "\n",
    "print(\"Profile\".center(15),'Average Likes'.center(20),'Followers:Likes'.center(15))\n",
    "for i,h in enumerate(likes):\n",
    "    print(\"{}. {:16} {:10} {:15.4f}\".format(i+1,h,likes[h]/n,round(((likes[h]/n)/followers[h]),4)))"
   ]
  },
  {
   "cell_type": "code",
   "execution_count": 83,
   "metadata": {},
   "outputs": [
    {
     "data": {
      "image/png": "[encoded data removed]",
      "text/plain": [
       "<Figure size 1008x360 with 2 Axes>"
      ]
     },
     "metadata": {
      "needs_background": "light"
     },
     "output_type": "display_data"
    }
   ],
   "source": [
    "fig,ax = plt.subplots(1,2, figsize=(14,5))\n",
    "\n",
    "colors = ['seagreen' for i in range(5)]\n",
    "colors[avg_likes.argmax()] = 'gold'\n",
    "ax[0].bar(top5handles,avg_likes/1000, edgecolor='k', color = colors)\n",
    "ax[0].set_title(\"Average Likes by Profile\",fontsize=14)\n",
    "ax[0].set_xlabel(\"Profiles\",fontsize=12)\n",
    "ax[0].set_ylabel(\"Avg Likes in thousands\",fontsize=12)\n",
    "\n",
    "colors = ['red' for i in range(5)]\n",
    "colors[flratio.argmax()]='skyblue'\n",
    "ax[1].bar(top5handles,flratio,edgecolor='k',color = colors)\n",
    "ax[1].set_title(\"Followers to Likes Ratio by Profile\",fontsize=14)\n",
    "ax[1].set_xlabel(\"Profiles\",fontsize=12)\n",
    "ax[1].set_ylabel(\"Followers:Likes\",fontsize=12)\n",
    "\n",
    "plt.tight_layout()\n",
    "plt.show()"
   ]
  }
 ],
 "metadata": {
  "kernelspec": {
   "display_name": "Python 3",
   "language": "python",
   "name": "python3"
  },
  "language_info": {
   "codemirror_mode": {
    "name": "ipython",
    "version": 3
   },
   "file_extension": ".py",
   "mimetype": "text/x-python",
   "name": "python",
   "nbconvert_exporter": "python",
   "pygments_lexer": "ipython3",
   "version": "3.7.3"
  }
 },
 "nbformat": 4,
 "nbformat_minor": 2
}
